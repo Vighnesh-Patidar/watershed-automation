{
 "cells": [
  {
   "cell_type": "markdown",
   "metadata": {},
   "source": [
    "All necessary imports"
   ]
  },
  {
   "cell_type": "code",
   "execution_count": 1,
   "metadata": {},
   "outputs": [],
   "source": [
    "import requests\n",
    "import json\n",
    "import arcpy\n",
    "import os\n",
    "import sys\n",
    "import time\n",
    "from arcpy.sa import *"
   ]
  },
  {
   "cell_type": "markdown",
   "metadata": {},
   "source": [
    "Fetching the data from USGS server via OpenTopography API"
   ]
  },
  {
   "cell_type": "code",
   "execution_count": null,
   "metadata": {},
   "outputs": [],
   "source": [
    "import requests\n",
    "\n",
    "# Define the bounding box and dataset\n",
    "bbox = \"-105.3,39.9,-105.2,40.1\"  # minX,minY,maxX,maxY\n",
    "datasets = \"National Elevation Dataset (NED) 1 arc-second Current\"\n",
    "\n",
    "# Construct the API request URL\n",
    "api_url = f\"https://tnmaccess.nationalmap.gov/api/v1/products?bbox={bbox}&datasets={datasets}&outputFormat=JSON\"\n",
    "\n",
    "# Send the request\n",
    "response = requests.get(api_url)\n",
    "\n",
    "# Check if the request was successful\n",
    "if response.status_code == 200:\n",
    "    data = response.json()\n",
    "    # Process the data as needed\n",
    "    for item in data.get('items', []):\n",
    "        print(f\"Product: {item.get('title')}\")\n",
    "        print(f\"Download URL: {item.get('downloadURL')}\\n\")\n",
    "else:\n",
    "    print(f\"Request failed with status code {response.status_code}\")\n"
   ]
  },
  {
   "cell_type": "markdown",
   "metadata": {},
   "source": [
    "Now that we have code to download specific bounding boxes, we initiate arcGIS environment."
   ]
  },
  {
   "cell_type": "code",
   "execution_count": null,
   "metadata": {},
   "outputs": [
    {
     "name": "stdout",
     "output_type": "stream",
     "text": [
      "Sink filling completed. Filled DEM saved at: C:\\Users\\wishu\\Documents\\ArcGIS\\Projects\\NYUTask1\\filled_dem.tif\n"
     ]
    }
   ],
   "source": [
    "\n",
    "# Set environment\n",
    "arcpy.env.workspace = r\"C:\\Users\\wishu\\Documents\\ArcGIS\\Projects\\NYUTask1\"\n",
    "arcpy.env.overwriteOutput = True\n",
    "\n",
    "# Input DEM\n",
    "input_dem = r\"C:\\Users\\wishu\\Documents\\ArcGIS\\Projects\\NYUTask1\\merged_dem.tif\"\n",
    "\n",
    "# Set output path\n",
    "filled_dem = r\"C:\\Users\\wishu\\Documents\\ArcGIS\\Projects\\NYUTask1\\filled_dem.tif\"\n",
    "\n",
    "# Execute Fill\n",
    "arcpy.CheckOutExtension(\"Spatial\")\n",
    "filled_raster = Fill(input_dem)\n",
    "filled_raster.save(filled_dem)\n",
    "\n",
    "print(\"Sink filling completed. Filled DEM saved at:\", filled_dem)\n"
   ]
  },
  {
   "cell_type": "markdown",
   "metadata": {},
   "source": [
    "Now we find the flow direction raster\n",
    "\n",
    "Output: Flow Direction raster"
   ]
  },
  {
   "cell_type": "code",
   "execution_count": null,
   "metadata": {},
   "outputs": [
    {
     "name": "stdout",
     "output_type": "stream",
     "text": [
      "Flow direction calculation completed. Output saved at: C:\\Users\\wishu\\Documents\\ArcGIS\\Projects\\NYUTask1\\flow_direction.tif\n"
     ]
    }
   ],
   "source": [
    "\n",
    "flow_direction_raster = r\"C:\\Users\\wishu\\Documents\\ArcGIS\\Projects\\NYUTask1\\flow_direction.tif\"\n",
    "\n",
    "# Execute Flow Direction\n",
    "arcpy.CheckOutExtension(\"Spatial\")\n",
    "flow_dir = FlowDirection(filled_dem, \"NORMAL\")  # Use \"NORMAL\" for standard flow direction\n",
    "flow_dir.save(flow_direction_raster)\n",
    "\n",
    "print(\"Flow direction calculation completed. Output saved at:\", flow_direction_raster)\n"
   ]
  },
  {
   "cell_type": "markdown",
   "metadata": {},
   "source": [
    "Now we find the flow accumulation raster\n",
    "\n",
    "Output: Flow Accumulation raster"
   ]
  },
  {
   "cell_type": "code",
   "execution_count": null,
   "metadata": {},
   "outputs": [
    {
     "name": "stdout",
     "output_type": "stream",
     "text": [
      "Flow accumulation calculation completed. Output saved at: C:\\Users\\wishu\\Documents\\ArcGIS\\Projects\\NYUTask1\\flow_accumulation.tif\n"
     ]
    }
   ],
   "source": [
    "\n",
    "flow_accumulation_raster = r\"C:\\Users\\wishu\\Documents\\ArcGIS\\Projects\\NYUTask1\\flow_accumulation.tif\"\n",
    "\n",
    "# Execute Flow Accumulation\n",
    "arcpy.CheckOutExtension(\"Spatial\")\n",
    "flow_acc = FlowAccumulation(flow_direction_raster)\n",
    "flow_acc.save(flow_accumulation_raster)\n",
    "\n",
    "print(\"Flow accumulation calculation completed. Output saved at:\", flow_accumulation_raster)"
   ]
  },
  {
   "cell_type": "markdown",
   "metadata": {},
   "source": [
    "CRITICAL TO ACCURACY PART\n",
    "\n",
    "WE CHANGE THE SYMBOLOGY TO BINARY CLASSES AND FIND THE RESOLUTION AT WHICH OUR RIVERS ARE CLEARLY VISIBLE"
   ]
  },
  {
   "cell_type": "code",
   "execution_count": null,
   "metadata": {},
   "outputs": [
    {
     "name": "stdout",
     "output_type": "stream",
     "text": [
      "Binary stream raster created with threshold 20000. Output saved at: C:\\Users\\wishu\\Documents\\ArcGIS\\Projects\\NYUTask1\\binary_stream.tif\n"
     ]
    }
   ],
   "source": [
    "\n",
    "flow_accum_raster = Raster(flow_accumulation_raster)\n",
    "\n",
    "# Define output path\n",
    "binary_stream_raster = r\"C:\\Users\\wishu\\Documents\\ArcGIS\\Projects\\NYUTask1\\binary_stream.tif\"\n",
    "\n",
    "# Define threshold\n",
    "stream_threshold = 20000  # Change this to test different stream definitions\n",
    "\n",
    "# Apply threshold to create binary raster\n",
    "binary_stream = Con(flow_accum_raster > stream_threshold, 1, 0)\n",
    "binary_stream.save(binary_stream_raster)\n",
    "\n",
    "print(f\"Binary stream raster created with threshold {stream_threshold}. Output saved at:\", binary_stream_raster)"
   ]
  },
  {
   "cell_type": "markdown",
   "metadata": {},
   "source": [
    "Now that we have a clear map of river streams \n",
    "\n",
    "Save the shapefiles containing outlet points\n",
    "\n",
    "Proceed with code in next cell to produce desired results"
   ]
  },
  {
   "cell_type": "code",
   "execution_count": null,
   "metadata": {},
   "outputs": [],
   "source": [
    "outlet_shapefile = input(\"C:/path/to/output/watershed.shp\").strip()\n",
    "\n",
    "# Output: Watershed raster\n",
    "watershed_raster = \"C:/path/to/output/watershed.tif\"\n",
    "\n",
    "# Ensure the Spatial Analyst extension is checked out\n",
    "arcpy.CheckOutExtension(\"Spatial\")\n",
    "\n",
    "# Execute Watershed delineation\n",
    "watershed = Watershed(flow_direction_raster, outlet_shapefile)\n",
    "watershed.save(watershed_raster)\n",
    "\n",
    "print(f\"Watershed delineation completed. Output saved at: {watershed_raster}\")"
   ]
  }
 ],
 "metadata": {
  "kernelspec": {
   "display_name": "ArcGISPro",
   "language": "python",
   "name": "python3"
  },
  "language_info": {
   "file_extension": ".py",
   "mimetype": "text/x-python",
   "name": "python",
   "version": "3.11.10"
  }
 },
 "nbformat": 4,
 "nbformat_minor": 4
}
